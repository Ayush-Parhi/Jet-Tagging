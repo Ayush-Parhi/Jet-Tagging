{
 "cells": [
  {
   "cell_type": "code",
   "execution_count": 1,
   "id": "1c887dac-460d-494e-a71e-1d84702bf24e",
   "metadata": {},
   "outputs": [],
   "source": [
    "import math\n",
    "\n",
    "import torch\n",
    "from datasets import load_dataset\n",
    "from fastai.tabular.all import *\n",
    "from sklearn.model_selection import train_test_split\n",
    "from sklearn.preprocessing import MinMaxScaler\n",
    "from torch.utils.data import DataLoader, TensorDataset\n",
    "from tqdm.auto import tqdm"
   ]
  },
  {
   "cell_type": "code",
   "execution_count": 2,
   "id": "f0f49845-4d73-4b7d-a56d-a454bde310bd",
   "metadata": {},
   "outputs": [],
   "source": [
    "import datasets\n",
    "\n",
    "# Suppress logs to keep things tidy\n",
    "datasets.logging.set_verbosity_error()"
   ]
  },
  {
   "cell_type": "code",
   "execution_count": 3,
   "id": "f528b25d-3f1d-4e18-b877-cd26a4f9cba9",
   "metadata": {},
   "outputs": [
    {
     "data": {
      "text/html": [
       "<div>\n",
       "<style scoped>\n",
       "    .dataframe tbody tr th:only-of-type {\n",
       "        vertical-align: middle;\n",
       "    }\n",
       "\n",
       "    .dataframe tbody tr th {\n",
       "        vertical-align: top;\n",
       "    }\n",
       "\n",
       "    .dataframe thead th {\n",
       "        text-align: right;\n",
       "    }\n",
       "</style>\n",
       "<table border=\"1\" class=\"dataframe\">\n",
       "  <thead>\n",
       "    <tr style=\"text-align: right;\">\n",
       "      <th></th>\n",
       "      <th>pT</th>\n",
       "      <th>mass</th>\n",
       "      <th>tau_1_0.5</th>\n",
       "      <th>tau_1_1</th>\n",
       "      <th>tau_1_2</th>\n",
       "      <th>tau_2_0.5</th>\n",
       "      <th>tau_2_1</th>\n",
       "      <th>tau_2_2</th>\n",
       "      <th>tau_3_0.5</th>\n",
       "      <th>tau_3_1</th>\n",
       "      <th>...</th>\n",
       "      <th>tau_4_0.5</th>\n",
       "      <th>tau_4_1</th>\n",
       "      <th>tau_4_2</th>\n",
       "      <th>tau_5_0.5</th>\n",
       "      <th>tau_5_1</th>\n",
       "      <th>tau_5_2</th>\n",
       "      <th>tau_6_0.5</th>\n",
       "      <th>tau_6_1</th>\n",
       "      <th>tau_6_2</th>\n",
       "      <th>label</th>\n",
       "    </tr>\n",
       "  </thead>\n",
       "  <tbody>\n",
       "    <tr>\n",
       "      <th>0</th>\n",
       "      <td>543.633944</td>\n",
       "      <td>25.846792</td>\n",
       "      <td>0.165122</td>\n",
       "      <td>0.032661</td>\n",
       "      <td>0.002262</td>\n",
       "      <td>0.048830</td>\n",
       "      <td>0.003711</td>\n",
       "      <td>0.000044</td>\n",
       "      <td>0.030994</td>\n",
       "      <td>0.001630</td>\n",
       "      <td>...</td>\n",
       "      <td>0.024336</td>\n",
       "      <td>0.001115</td>\n",
       "      <td>0.000008</td>\n",
       "      <td>0.004252</td>\n",
       "      <td>0.000234</td>\n",
       "      <td>7.706005e-07</td>\n",
       "      <td>0.000000</td>\n",
       "      <td>0.000000</td>\n",
       "      <td>0.000000e+00</td>\n",
       "      <td>0</td>\n",
       "    </tr>\n",
       "    <tr>\n",
       "      <th>1</th>\n",
       "      <td>452.411860</td>\n",
       "      <td>13.388679</td>\n",
       "      <td>0.162938</td>\n",
       "      <td>0.027598</td>\n",
       "      <td>0.000876</td>\n",
       "      <td>0.095902</td>\n",
       "      <td>0.015461</td>\n",
       "      <td>0.000506</td>\n",
       "      <td>0.079750</td>\n",
       "      <td>0.009733</td>\n",
       "      <td>...</td>\n",
       "      <td>0.056854</td>\n",
       "      <td>0.005454</td>\n",
       "      <td>0.000072</td>\n",
       "      <td>0.044211</td>\n",
       "      <td>0.004430</td>\n",
       "      <td>6.175314e-05</td>\n",
       "      <td>0.037458</td>\n",
       "      <td>0.003396</td>\n",
       "      <td>3.670517e-05</td>\n",
       "      <td>0</td>\n",
       "    </tr>\n",
       "    <tr>\n",
       "      <th>2</th>\n",
       "      <td>429.495258</td>\n",
       "      <td>32.021091</td>\n",
       "      <td>0.244436</td>\n",
       "      <td>0.065901</td>\n",
       "      <td>0.005557</td>\n",
       "      <td>0.155202</td>\n",
       "      <td>0.038807</td>\n",
       "      <td>0.002762</td>\n",
       "      <td>0.123285</td>\n",
       "      <td>0.025339</td>\n",
       "      <td>...</td>\n",
       "      <td>0.078205</td>\n",
       "      <td>0.012678</td>\n",
       "      <td>0.000567</td>\n",
       "      <td>0.052374</td>\n",
       "      <td>0.005935</td>\n",
       "      <td>9.395772e-05</td>\n",
       "      <td>0.037572</td>\n",
       "      <td>0.002932</td>\n",
       "      <td>2.237277e-05</td>\n",
       "      <td>0</td>\n",
       "    </tr>\n",
       "    <tr>\n",
       "      <th>3</th>\n",
       "      <td>512.675443</td>\n",
       "      <td>6.684734</td>\n",
       "      <td>0.102580</td>\n",
       "      <td>0.011369</td>\n",
       "      <td>0.000170</td>\n",
       "      <td>0.086306</td>\n",
       "      <td>0.007760</td>\n",
       "      <td>0.000071</td>\n",
       "      <td>0.068169</td>\n",
       "      <td>0.005386</td>\n",
       "      <td>...</td>\n",
       "      <td>0.044705</td>\n",
       "      <td>0.002376</td>\n",
       "      <td>0.000008</td>\n",
       "      <td>0.027895</td>\n",
       "      <td>0.001364</td>\n",
       "      <td>4.400042e-06</td>\n",
       "      <td>0.009012</td>\n",
       "      <td>0.000379</td>\n",
       "      <td>6.731099e-07</td>\n",
       "      <td>0</td>\n",
       "    </tr>\n",
       "    <tr>\n",
       "      <th>4</th>\n",
       "      <td>527.956859</td>\n",
       "      <td>133.985415</td>\n",
       "      <td>0.407009</td>\n",
       "      <td>0.191839</td>\n",
       "      <td>0.065169</td>\n",
       "      <td>0.291460</td>\n",
       "      <td>0.105479</td>\n",
       "      <td>0.029753</td>\n",
       "      <td>0.209341</td>\n",
       "      <td>0.049187</td>\n",
       "      <td>...</td>\n",
       "      <td>0.143768</td>\n",
       "      <td>0.033249</td>\n",
       "      <td>0.003689</td>\n",
       "      <td>0.135407</td>\n",
       "      <td>0.029054</td>\n",
       "      <td>2.593460e-03</td>\n",
       "      <td>0.110805</td>\n",
       "      <td>0.023179</td>\n",
       "      <td>2.202088e-03</td>\n",
       "      <td>0</td>\n",
       "    </tr>\n",
       "  </tbody>\n",
       "</table>\n",
       "<p>5 rows × 21 columns</p>\n",
       "</div>"
      ],
      "text/plain": [
       "           pT        mass  tau_1_0.5   tau_1_1   tau_1_2  tau_2_0.5   tau_2_1  \\\n",
       "0  543.633944   25.846792   0.165122  0.032661  0.002262   0.048830  0.003711   \n",
       "1  452.411860   13.388679   0.162938  0.027598  0.000876   0.095902  0.015461   \n",
       "2  429.495258   32.021091   0.244436  0.065901  0.005557   0.155202  0.038807   \n",
       "3  512.675443    6.684734   0.102580  0.011369  0.000170   0.086306  0.007760   \n",
       "4  527.956859  133.985415   0.407009  0.191839  0.065169   0.291460  0.105479   \n",
       "\n",
       "    tau_2_2  tau_3_0.5   tau_3_1  ...  tau_4_0.5   tau_4_1   tau_4_2  \\\n",
       "0  0.000044   0.030994  0.001630  ...   0.024336  0.001115  0.000008   \n",
       "1  0.000506   0.079750  0.009733  ...   0.056854  0.005454  0.000072   \n",
       "2  0.002762   0.123285  0.025339  ...   0.078205  0.012678  0.000567   \n",
       "3  0.000071   0.068169  0.005386  ...   0.044705  0.002376  0.000008   \n",
       "4  0.029753   0.209341  0.049187  ...   0.143768  0.033249  0.003689   \n",
       "\n",
       "   tau_5_0.5   tau_5_1       tau_5_2  tau_6_0.5   tau_6_1       tau_6_2  label  \n",
       "0   0.004252  0.000234  7.706005e-07   0.000000  0.000000  0.000000e+00      0  \n",
       "1   0.044211  0.004430  6.175314e-05   0.037458  0.003396  3.670517e-05      0  \n",
       "2   0.052374  0.005935  9.395772e-05   0.037572  0.002932  2.237277e-05      0  \n",
       "3   0.027895  0.001364  4.400042e-06   0.009012  0.000379  6.731099e-07      0  \n",
       "4   0.135407  0.029054  2.593460e-03   0.110805  0.023179  2.202088e-03      0  \n",
       "\n",
       "[5 rows x 21 columns]"
      ]
     },
     "execution_count": 3,
     "metadata": {},
     "output_type": "execute_result"
    }
   ],
   "source": [
    "nsubjet_ds = load_dataset(\"dl4phys/top_tagging_nsubjettiness\")\n",
    "df = nsubjet_ds[\"train\"].to_pandas()\n",
    "df.head()"
   ]
  },
  {
   "cell_type": "code",
   "execution_count": 4,
   "id": "d925474b-70dc-443e-af19-041f6790ae66",
   "metadata": {},
   "outputs": [
    {
     "data": {
      "text/plain": [
       "((908250, 21), (302750, 21))"
      ]
     },
     "execution_count": 4,
     "metadata": {},
     "output_type": "execute_result"
    }
   ],
   "source": [
    "train_df, valid_df = train_test_split(df, random_state=42)\n",
    "train_df.shape, valid_df.shape"
   ]
  },
  {
   "cell_type": "code",
   "execution_count": 5,
   "id": "6159c6cd-3eb3-4451-ac22-534f7a58397f",
   "metadata": {},
   "outputs": [
    {
     "data": {
      "text/html": [
       "<div>\n",
       "<style scoped>\n",
       "    .dataframe tbody tr th:only-of-type {\n",
       "        vertical-align: middle;\n",
       "    }\n",
       "\n",
       "    .dataframe tbody tr th {\n",
       "        vertical-align: top;\n",
       "    }\n",
       "\n",
       "    .dataframe thead th {\n",
       "        text-align: right;\n",
       "    }\n",
       "</style>\n",
       "<table border=\"1\" class=\"dataframe\">\n",
       "  <thead>\n",
       "    <tr style=\"text-align: right;\">\n",
       "      <th></th>\n",
       "      <th>pT</th>\n",
       "      <th>mass</th>\n",
       "      <th>tau_1_0.5</th>\n",
       "      <th>tau_1_1</th>\n",
       "      <th>tau_1_2</th>\n",
       "      <th>tau_2_0.5</th>\n",
       "      <th>tau_2_1</th>\n",
       "      <th>tau_2_2</th>\n",
       "      <th>tau_3_0.5</th>\n",
       "      <th>tau_3_1</th>\n",
       "      <th>...</th>\n",
       "      <th>tau_4_0.5</th>\n",
       "      <th>tau_4_1</th>\n",
       "      <th>tau_4_2</th>\n",
       "      <th>tau_5_0.5</th>\n",
       "      <th>tau_5_1</th>\n",
       "      <th>tau_5_2</th>\n",
       "      <th>tau_6_0.5</th>\n",
       "      <th>tau_6_1</th>\n",
       "      <th>tau_6_2</th>\n",
       "      <th>label</th>\n",
       "    </tr>\n",
       "  </thead>\n",
       "  <tbody>\n",
       "    <tr>\n",
       "      <th>count</th>\n",
       "      <td>908250.000000</td>\n",
       "      <td>908250.000000</td>\n",
       "      <td>908250.000000</td>\n",
       "      <td>908250.000000</td>\n",
       "      <td>908250.000000</td>\n",
       "      <td>908250.000000</td>\n",
       "      <td>908250.000000</td>\n",
       "      <td>908250.000000</td>\n",
       "      <td>908250.000000</td>\n",
       "      <td>908250.000000</td>\n",
       "      <td>...</td>\n",
       "      <td>908250.000000</td>\n",
       "      <td>908250.000000</td>\n",
       "      <td>908250.000000</td>\n",
       "      <td>908250.000000</td>\n",
       "      <td>908250.000000</td>\n",
       "      <td>908250.000000</td>\n",
       "      <td>908250.000000</td>\n",
       "      <td>908250.000000</td>\n",
       "      <td>908250.000000</td>\n",
       "      <td>908250.000000</td>\n",
       "    </tr>\n",
       "    <tr>\n",
       "      <th>mean</th>\n",
       "      <td>487.107393</td>\n",
       "      <td>88.090520</td>\n",
       "      <td>0.366716</td>\n",
       "      <td>0.198446</td>\n",
       "      <td>0.319559</td>\n",
       "      <td>0.222759</td>\n",
       "      <td>0.079243</td>\n",
       "      <td>0.072535</td>\n",
       "      <td>0.148137</td>\n",
       "      <td>0.035372</td>\n",
       "      <td>...</td>\n",
       "      <td>0.112024</td>\n",
       "      <td>0.022150</td>\n",
       "      <td>0.008670</td>\n",
       "      <td>0.088400</td>\n",
       "      <td>0.015329</td>\n",
       "      <td>0.004875</td>\n",
       "      <td>0.070679</td>\n",
       "      <td>0.011019</td>\n",
       "      <td>0.002914</td>\n",
       "      <td>0.500366</td>\n",
       "    </tr>\n",
       "    <tr>\n",
       "      <th>std</th>\n",
       "      <td>48.568267</td>\n",
       "      <td>48.393646</td>\n",
       "      <td>0.186922</td>\n",
       "      <td>0.339542</td>\n",
       "      <td>2.003898</td>\n",
       "      <td>0.110955</td>\n",
       "      <td>0.125155</td>\n",
       "      <td>0.674091</td>\n",
       "      <td>0.072627</td>\n",
       "      <td>0.051869</td>\n",
       "      <td>...</td>\n",
       "      <td>0.059393</td>\n",
       "      <td>0.032004</td>\n",
       "      <td>0.155468</td>\n",
       "      <td>0.051949</td>\n",
       "      <td>0.022866</td>\n",
       "      <td>0.107641</td>\n",
       "      <td>0.046571</td>\n",
       "      <td>0.017133</td>\n",
       "      <td>0.078247</td>\n",
       "      <td>0.500000</td>\n",
       "    </tr>\n",
       "    <tr>\n",
       "      <th>min</th>\n",
       "      <td>225.490387</td>\n",
       "      <td>-0.433573</td>\n",
       "      <td>0.000000</td>\n",
       "      <td>0.000000</td>\n",
       "      <td>0.000000</td>\n",
       "      <td>0.000000</td>\n",
       "      <td>0.000000</td>\n",
       "      <td>0.000000</td>\n",
       "      <td>0.000000</td>\n",
       "      <td>0.000000</td>\n",
       "      <td>...</td>\n",
       "      <td>0.000000</td>\n",
       "      <td>0.000000</td>\n",
       "      <td>0.000000</td>\n",
       "      <td>0.000000</td>\n",
       "      <td>0.000000</td>\n",
       "      <td>0.000000</td>\n",
       "      <td>0.000000</td>\n",
       "      <td>0.000000</td>\n",
       "      <td>0.000000</td>\n",
       "      <td>0.000000</td>\n",
       "    </tr>\n",
       "    <tr>\n",
       "      <th>25%</th>\n",
       "      <td>452.879289</td>\n",
       "      <td>39.958178</td>\n",
       "      <td>0.224456</td>\n",
       "      <td>0.058381</td>\n",
       "      <td>0.006443</td>\n",
       "      <td>0.139269</td>\n",
       "      <td>0.025638</td>\n",
       "      <td>0.001565</td>\n",
       "      <td>0.094603</td>\n",
       "      <td>0.013308</td>\n",
       "      <td>...</td>\n",
       "      <td>0.069037</td>\n",
       "      <td>0.007949</td>\n",
       "      <td>0.000188</td>\n",
       "      <td>0.051012</td>\n",
       "      <td>0.004936</td>\n",
       "      <td>0.000079</td>\n",
       "      <td>0.036142</td>\n",
       "      <td>0.002977</td>\n",
       "      <td>0.000033</td>\n",
       "      <td>0.000000</td>\n",
       "    </tr>\n",
       "    <tr>\n",
       "      <th>50%</th>\n",
       "      <td>485.894050</td>\n",
       "      <td>99.887418</td>\n",
       "      <td>0.380172</td>\n",
       "      <td>0.166016</td>\n",
       "      <td>0.045887</td>\n",
       "      <td>0.222763</td>\n",
       "      <td>0.061597</td>\n",
       "      <td>0.008788</td>\n",
       "      <td>0.148810</td>\n",
       "      <td>0.028501</td>\n",
       "      <td>...</td>\n",
       "      <td>0.110220</td>\n",
       "      <td>0.017609</td>\n",
       "      <td>0.000787</td>\n",
       "      <td>0.086045</td>\n",
       "      <td>0.011755</td>\n",
       "      <td>0.000387</td>\n",
       "      <td>0.067797</td>\n",
       "      <td>0.008028</td>\n",
       "      <td>0.000193</td>\n",
       "      <td>1.000000</td>\n",
       "    </tr>\n",
       "    <tr>\n",
       "      <th>75%</th>\n",
       "      <td>520.506446</td>\n",
       "      <td>126.518545</td>\n",
       "      <td>0.477122</td>\n",
       "      <td>0.240550</td>\n",
       "      <td>0.074417</td>\n",
       "      <td>0.299708</td>\n",
       "      <td>0.108207</td>\n",
       "      <td>0.022441</td>\n",
       "      <td>0.196156</td>\n",
       "      <td>0.046588</td>\n",
       "      <td>...</td>\n",
       "      <td>0.151137</td>\n",
       "      <td>0.029990</td>\n",
       "      <td>0.002006</td>\n",
       "      <td>0.121905</td>\n",
       "      <td>0.021089</td>\n",
       "      <td>0.001103</td>\n",
       "      <td>0.100437</td>\n",
       "      <td>0.015359</td>\n",
       "      <td>0.000635</td>\n",
       "      <td>1.000000</td>\n",
       "    </tr>\n",
       "    <tr>\n",
       "      <th>max</th>\n",
       "      <td>647.493145</td>\n",
       "      <td>299.211555</td>\n",
       "      <td>2.431888</td>\n",
       "      <td>6.013309</td>\n",
       "      <td>37.702422</td>\n",
       "      <td>2.218956</td>\n",
       "      <td>5.392683</td>\n",
       "      <td>33.352249</td>\n",
       "      <td>1.917912</td>\n",
       "      <td>4.502011</td>\n",
       "      <td>...</td>\n",
       "      <td>1.616280</td>\n",
       "      <td>3.753716</td>\n",
       "      <td>21.161948</td>\n",
       "      <td>1.407356</td>\n",
       "      <td>3.158352</td>\n",
       "      <td>17.645603</td>\n",
       "      <td>1.388879</td>\n",
       "      <td>3.127371</td>\n",
       "      <td>17.340970</td>\n",
       "      <td>1.000000</td>\n",
       "    </tr>\n",
       "  </tbody>\n",
       "</table>\n",
       "<p>8 rows × 21 columns</p>\n",
       "</div>"
      ],
      "text/plain": [
       "                  pT           mass      tau_1_0.5        tau_1_1  \\\n",
       "count  908250.000000  908250.000000  908250.000000  908250.000000   \n",
       "mean      487.107393      88.090520       0.366716       0.198446   \n",
       "std        48.568267      48.393646       0.186922       0.339542   \n",
       "min       225.490387      -0.433573       0.000000       0.000000   \n",
       "25%       452.879289      39.958178       0.224456       0.058381   \n",
       "50%       485.894050      99.887418       0.380172       0.166016   \n",
       "75%       520.506446     126.518545       0.477122       0.240550   \n",
       "max       647.493145     299.211555       2.431888       6.013309   \n",
       "\n",
       "             tau_1_2      tau_2_0.5        tau_2_1        tau_2_2  \\\n",
       "count  908250.000000  908250.000000  908250.000000  908250.000000   \n",
       "mean        0.319559       0.222759       0.079243       0.072535   \n",
       "std         2.003898       0.110955       0.125155       0.674091   \n",
       "min         0.000000       0.000000       0.000000       0.000000   \n",
       "25%         0.006443       0.139269       0.025638       0.001565   \n",
       "50%         0.045887       0.222763       0.061597       0.008788   \n",
       "75%         0.074417       0.299708       0.108207       0.022441   \n",
       "max        37.702422       2.218956       5.392683      33.352249   \n",
       "\n",
       "           tau_3_0.5        tau_3_1  ...      tau_4_0.5        tau_4_1  \\\n",
       "count  908250.000000  908250.000000  ...  908250.000000  908250.000000   \n",
       "mean        0.148137       0.035372  ...       0.112024       0.022150   \n",
       "std         0.072627       0.051869  ...       0.059393       0.032004   \n",
       "min         0.000000       0.000000  ...       0.000000       0.000000   \n",
       "25%         0.094603       0.013308  ...       0.069037       0.007949   \n",
       "50%         0.148810       0.028501  ...       0.110220       0.017609   \n",
       "75%         0.196156       0.046588  ...       0.151137       0.029990   \n",
       "max         1.917912       4.502011  ...       1.616280       3.753716   \n",
       "\n",
       "             tau_4_2      tau_5_0.5        tau_5_1        tau_5_2  \\\n",
       "count  908250.000000  908250.000000  908250.000000  908250.000000   \n",
       "mean        0.008670       0.088400       0.015329       0.004875   \n",
       "std         0.155468       0.051949       0.022866       0.107641   \n",
       "min         0.000000       0.000000       0.000000       0.000000   \n",
       "25%         0.000188       0.051012       0.004936       0.000079   \n",
       "50%         0.000787       0.086045       0.011755       0.000387   \n",
       "75%         0.002006       0.121905       0.021089       0.001103   \n",
       "max        21.161948       1.407356       3.158352      17.645603   \n",
       "\n",
       "           tau_6_0.5        tau_6_1        tau_6_2          label  \n",
       "count  908250.000000  908250.000000  908250.000000  908250.000000  \n",
       "mean        0.070679       0.011019       0.002914       0.500366  \n",
       "std         0.046571       0.017133       0.078247       0.500000  \n",
       "min         0.000000       0.000000       0.000000       0.000000  \n",
       "25%         0.036142       0.002977       0.000033       0.000000  \n",
       "50%         0.067797       0.008028       0.000193       1.000000  \n",
       "75%         0.100437       0.015359       0.000635       1.000000  \n",
       "max         1.388879       3.127371      17.340970       1.000000  \n",
       "\n",
       "[8 rows x 21 columns]"
      ]
     },
     "execution_count": 5,
     "metadata": {},
     "output_type": "execute_result"
    }
   ],
   "source": [
    "train_df.describe()"
   ]
  },
  {
   "cell_type": "code",
   "execution_count": 6,
   "id": "046f9c43-5f18-46e2-91eb-b2c32394f921",
   "metadata": {},
   "outputs": [],
   "source": [
    "# Slice out all feature columns\n",
    "train_x = train_df.iloc[:, :-1].values\n",
    "# Slice out the label column\n",
    "train_y = train_df.iloc[:, -1].values"
   ]
  },
  {
   "cell_type": "code",
   "execution_count": 7,
   "id": "2494a608-1b8b-4ffe-bedd-044896f9f559",
   "metadata": {},
   "outputs": [
    {
     "data": {
      "text/plain": [
       "(np.float64(0.0), np.float64(1.0))"
      ]
     },
     "execution_count": 7,
     "metadata": {},
     "output_type": "execute_result"
    }
   ],
   "source": [
    "scaler = MinMaxScaler()\n",
    "train_x = scaler.fit_transform(train_x)\n",
    "# Sanity check the normalization worked\n",
    "np.min(train_x), np.max(train_x)"
   ]
  },
  {
   "cell_type": "code",
   "execution_count": 8,
   "id": "31d0f0c3-2dc2-4418-a9be-c60115a2fce8",
   "metadata": {},
   "outputs": [
    {
     "data": {
      "text/plain": [
       "(torch.Size([908250, 20]), torch.Size([908250]))"
      ]
     },
     "execution_count": 8,
     "metadata": {},
     "output_type": "execute_result"
    }
   ],
   "source": [
    "# Cast to float32\n",
    "train_x = torch.from_numpy(train_x).float()\n",
    "train_y = torch.from_numpy(train_df.iloc[:, -1].values)\n",
    "# Sanity check on the shapes\n",
    "train_x.shape, train_y.shape"
   ]
  },
  {
   "cell_type": "code",
   "execution_count": 9,
   "id": "0dcf8443-0c22-4f96-9500-d0d7c93ae4c8",
   "metadata": {},
   "outputs": [],
   "source": [
    "set_seed(42)\n",
    "# Xavier initialisation\n",
    "weights = torch.randn(20, 2) / math.sqrt(20)\n",
    "# Track grads after initialization\n",
    "weights.requires_grad_()\n",
    "bias = torch.zeros(2, requires_grad=True)"
   ]
  },
  {
   "cell_type": "code",
   "execution_count": 11,
   "id": "0afb524f-7c5e-457e-819d-4b36d7fc48d8",
   "metadata": {},
   "outputs": [],
   "source": [
    "def log_softmax(x):\n",
    "    return (x - x.max()) - (x - x.max()).exp().sum(-1).log().unsqueeze(-1)"
   ]
  },
  {
   "cell_type": "code",
   "execution_count": 12,
   "id": "39cf2cc0-3c80-4609-937e-8ba8cae9a241",
   "metadata": {},
   "outputs": [],
   "source": [
    "def model(xb):\n",
    "    return log_softmax(xb @ weights + bias)"
   ]
  },
  {
   "cell_type": "code",
   "execution_count": 13,
   "id": "3260c0a8-167e-4474-8e40-83e847fa84bd",
   "metadata": {},
   "outputs": [
    {
     "data": {
      "text/plain": [
       "(tensor([-0.5103, -0.9171], grad_fn=<SelectBackward0>), torch.Size([1024, 2]))"
      ]
     },
     "execution_count": 13,
     "metadata": {},
     "output_type": "execute_result"
    }
   ],
   "source": [
    "# Batch size\n",
    "bs = 1024\n",
    "# A mini-batch from x\n",
    "xb = train_x[0:bs]\n",
    "# Model predictions\n",
    "preds = model(xb)\n",
    "preds[0], preds.shape"
   ]
  },
  {
   "cell_type": "code",
   "execution_count": 14,
   "id": "e225516c-1c6d-403d-a1ff-5bca1f5eca96",
   "metadata": {},
   "outputs": [],
   "source": [
    "def nll_loss(predictions, target):\n",
    "    # Mask predictions according to whether y_hat is 1 or 0\n",
    "    return -predictions[range(target.shape[0]), target].mean()\n",
    "\n",
    "\n",
    "loss_func = nll_loss"
   ]
  },
  {
   "cell_type": "code",
   "execution_count": 15,
   "id": "91df34a1-2f20-4959-a871-2df5b81f15b1",
   "metadata": {},
   "outputs": [
    {
     "name": "stdout",
     "output_type": "stream",
     "text": [
      "tensor(0.7619, grad_fn=<NegBackward0>)\n"
     ]
    }
   ],
   "source": [
    "yb = train_y[0:bs]\n",
    "print(loss_func(preds, yb))"
   ]
  },
  {
   "cell_type": "code",
   "execution_count": 16,
   "id": "a652fa4a-bd01-4fb8-974c-6b25b325e113",
   "metadata": {},
   "outputs": [
    {
     "data": {
      "text/plain": [
       "tensor(0.5020)"
      ]
     },
     "execution_count": 16,
     "metadata": {},
     "output_type": "execute_result"
    }
   ],
   "source": [
    "def accuracy(out, yb):\n",
    "    preds = torch.argmax(out, dim=1)\n",
    "    return (preds == yb).float().mean()\n",
    "\n",
    "\n",
    "accuracy(preds, yb)"
   ]
  },
  {
   "cell_type": "code",
   "execution_count": 17,
   "id": "cb97e353-f927-498e-b7f0-9f15e358e884",
   "metadata": {},
   "outputs": [
    {
     "data": {
      "application/vnd.jupyter.widget-view+json": {
       "model_id": "23d95327ed8245368b814d4a6ff87047",
       "version_major": 2,
       "version_minor": 0
      },
      "text/plain": [
       "num_epochs:   0%|          | 0/3 [00:00<?, ?it/s]"
      ]
     },
     "metadata": {},
     "output_type": "display_data"
    },
    {
     "data": {
      "application/vnd.jupyter.widget-view+json": {
       "model_id": "",
       "version_major": 2,
       "version_minor": 0
      },
      "text/plain": [
       "  0%|          | 0/887 [00:00<?, ?it/s]"
      ]
     },
     "metadata": {},
     "output_type": "display_data"
    },
    {
     "data": {
      "application/vnd.jupyter.widget-view+json": {
       "model_id": "",
       "version_major": 2,
       "version_minor": 0
      },
      "text/plain": [
       "  0%|          | 0/887 [00:00<?, ?it/s]"
      ]
     },
     "metadata": {},
     "output_type": "display_data"
    },
    {
     "data": {
      "application/vnd.jupyter.widget-view+json": {
       "model_id": "",
       "version_major": 2,
       "version_minor": 0
      },
      "text/plain": [
       "  0%|          | 0/887 [00:00<?, ?it/s]"
      ]
     },
     "metadata": {},
     "output_type": "display_data"
    }
   ],
   "source": [
    "# Learning rate\n",
    "lr = 1e-2\n",
    "# Number of epochs\n",
    "epochs = 3\n",
    "n = len(train_df)\n",
    "\n",
    "for epoch in tqdm(range(epochs), desc=\"num_epochs\"):\n",
    "    for i in tqdm(range((n - 1) // bs + 1), leave=False):\n",
    "        # 1. Select mini-batch\n",
    "        start_i = i * bs\n",
    "        end_i = start_i + bs\n",
    "        xb = train_x[start_i:end_i]\n",
    "        yb = train_y[start_i:end_i]\n",
    "        # 2. Generate predictions\n",
    "        pred = model(xb)\n",
    "        # 3. Compute the loss\n",
    "        loss = loss_func(pred, yb)\n",
    "        # 4. Compute the gradients\n",
    "        loss.backward()\n",
    "        # 5. Update the weights and biases\n",
    "        with torch.no_grad():\n",
    "            weights -= weights.grad * lr\n",
    "            bias -= bias.grad * lr\n",
    "            # Set current gradients to zero\n",
    "            weights.grad.zero_()\n",
    "            bias.grad.zero_()"
   ]
  },
  {
   "cell_type": "code",
   "execution_count": 18,
   "id": "e236e696-7943-4e06-b3a3-27be087b3550",
   "metadata": {},
   "outputs": [],
   "source": [
    "def print_scores():\n",
    "    print(f\"Loss: {loss_func(model(xb), yb):.3f}\")\n",
    "    print(f\"Accuracy: {accuracy(model(xb), yb):.3f}\")"
   ]
  },
  {
   "cell_type": "code",
   "execution_count": 19,
   "id": "a6913a5b-de64-4f80-a313-70aff56c2a23",
   "metadata": {},
   "outputs": [
    {
     "name": "stdout",
     "output_type": "stream",
     "text": [
      "Loss: 0.561\n",
      "Accuracy: 0.857\n"
     ]
    }
   ],
   "source": [
    "print_scores()"
   ]
  },
  {
   "cell_type": "code",
   "execution_count": 20,
   "id": "43548506-d36a-459d-8a9d-71f4ffba691b",
   "metadata": {},
   "outputs": [
    {
     "name": "stdout",
     "output_type": "stream",
     "text": [
      "Loss: 0.561\n",
      "Accuracy: 0.857\n"
     ]
    }
   ],
   "source": [
    "loss_func = F.cross_entropy\n",
    "\n",
    "\n",
    "def model(xb):\n",
    "    return xb @ weights + bias\n",
    "\n",
    "\n",
    "# Sanity check we get the same scores as before\n",
    "print_scores()"
   ]
  },
  {
   "cell_type": "code",
   "execution_count": 23,
   "id": "5e7ef9a8-18a1-4138-b5e6-01e5d95cd5e7",
   "metadata": {},
   "outputs": [],
   "source": [
    "class LogisticRegressor(nn.Module):\n",
    "    def __init__(self):\n",
    "        super().__init__()\n",
    "        self.weights = nn.Parameter(torch.randn(20, 2) / math.sqrt(20))\n",
    "        self.bias = nn.Parameter(torch.zeros(2))\n",
    "\n",
    "    def forward(self, xb):\n",
    "        return xb @ self.weights + self.bias"
   ]
  },
  {
   "cell_type": "code",
   "execution_count": 24,
   "id": "018a5a0f-c6e4-493c-a043-2f7e431afae5",
   "metadata": {},
   "outputs": [
    {
     "data": {
      "text/plain": [
       "tensor(0.7114, grad_fn=<NllLossBackward0>)"
      ]
     },
     "execution_count": 24,
     "metadata": {},
     "output_type": "execute_result"
    }
   ],
   "source": [
    "model = LogisticRegressor()\n",
    "loss_func(model(xb), yb)"
   ]
  },
  {
   "cell_type": "code",
   "execution_count": 25,
   "id": "8de25baf-606e-4826-be6e-ede3cee07593",
   "metadata": {},
   "outputs": [
    {
     "data": {
      "application/vnd.jupyter.widget-view+json": {
       "model_id": "d3ddf14b66ae4707a40b2805f042986d",
       "version_major": 2,
       "version_minor": 0
      },
      "text/plain": [
       "num_epochs:   0%|          | 0/3 [00:00<?, ?it/s]"
      ]
     },
     "metadata": {},
     "output_type": "display_data"
    },
    {
     "data": {
      "application/vnd.jupyter.widget-view+json": {
       "model_id": "",
       "version_major": 2,
       "version_minor": 0
      },
      "text/plain": [
       "  0%|          | 0/887 [00:00<?, ?it/s]"
      ]
     },
     "metadata": {},
     "output_type": "display_data"
    },
    {
     "data": {
      "application/vnd.jupyter.widget-view+json": {
       "model_id": "",
       "version_major": 2,
       "version_minor": 0
      },
      "text/plain": [
       "  0%|          | 0/887 [00:00<?, ?it/s]"
      ]
     },
     "metadata": {},
     "output_type": "display_data"
    },
    {
     "data": {
      "application/vnd.jupyter.widget-view+json": {
       "model_id": "",
       "version_major": 2,
       "version_minor": 0
      },
      "text/plain": [
       "  0%|          | 0/887 [00:00<?, ?it/s]"
      ]
     },
     "metadata": {},
     "output_type": "display_data"
    },
    {
     "name": "stdout",
     "output_type": "stream",
     "text": [
      "Loss: 0.547\n",
      "Accuracy: 0.859\n"
     ]
    }
   ],
   "source": [
    "def fit():\n",
    "    for epoch in tqdm(range(epochs), desc=\"num_epochs\"):\n",
    "        for i in tqdm(range((n - 1) // bs + 1), leave=False):\n",
    "            # 1. Select mini-batch\n",
    "            start_i = i * bs\n",
    "            end_i = start_i + bs\n",
    "            xb = train_x[start_i:end_i]\n",
    "            yb = train_y[start_i:end_i]\n",
    "            # 2. Generate predictions\n",
    "            pred = model(xb)\n",
    "            # 3. Compute the loss\n",
    "            loss = loss_func(pred, yb)\n",
    "            # 4. Compute the gradients\n",
    "            loss.backward()\n",
    "            # 5. Update the weights and biases\n",
    "            with torch.no_grad():\n",
    "                for p in model.parameters():\n",
    "                    p -= p.grad * lr\n",
    "                model.zero_grad()\n",
    "\n",
    "\n",
    "fit()\n",
    "print_scores()"
   ]
  },
  {
   "cell_type": "code",
   "execution_count": 27,
   "id": "d56aaf62-2fcc-407b-b30a-134541d28f44",
   "metadata": {},
   "outputs": [
    {
     "data": {
      "application/vnd.jupyter.widget-view+json": {
       "model_id": "b0db59c49fad43248b4d19803b41ac9b",
       "version_major": 2,
       "version_minor": 0
      },
      "text/plain": [
       "num_epochs:   0%|          | 0/3 [00:00<?, ?it/s]"
      ]
     },
     "metadata": {},
     "output_type": "display_data"
    },
    {
     "data": {
      "application/vnd.jupyter.widget-view+json": {
       "model_id": "",
       "version_major": 2,
       "version_minor": 0
      },
      "text/plain": [
       "  0%|          | 0/887 [00:00<?, ?it/s]"
      ]
     },
     "metadata": {},
     "output_type": "display_data"
    },
    {
     "data": {
      "application/vnd.jupyter.widget-view+json": {
       "model_id": "",
       "version_major": 2,
       "version_minor": 0
      },
      "text/plain": [
       "  0%|          | 0/887 [00:00<?, ?it/s]"
      ]
     },
     "metadata": {},
     "output_type": "display_data"
    },
    {
     "data": {
      "application/vnd.jupyter.widget-view+json": {
       "model_id": "",
       "version_major": 2,
       "version_minor": 0
      },
      "text/plain": [
       "  0%|          | 0/887 [00:00<?, ?it/s]"
      ]
     },
     "metadata": {},
     "output_type": "display_data"
    },
    {
     "name": "stdout",
     "output_type": "stream",
     "text": [
      "Loss: 0.530\n",
      "Accuracy: 0.859\n"
     ]
    }
   ],
   "source": [
    "class LogisticRegressor(nn.Module):\n",
    "    def __init__(self):\n",
    "        super().__init__()\n",
    "        self.linear = nn.Linear(20, 2)\n",
    "\n",
    "    def forward(self, xb):\n",
    "        return self.linear(xb)\n",
    "\n",
    "\n",
    "model = LogisticRegressor()\n",
    "fit()\n",
    "print_scores()"
   ]
  },
  {
   "cell_type": "code",
   "execution_count": 29,
   "id": "4b112536-9c32-42e7-ad68-7d6ce1c1f59e",
   "metadata": {},
   "outputs": [
    {
     "data": {
      "text/plain": [
       "tensor(0.7041, grad_fn=<NllLossBackward0>)"
      ]
     },
     "execution_count": 29,
     "metadata": {},
     "output_type": "execute_result"
    }
   ],
   "source": [
    "def get_model():\n",
    "    model = LogisticRegressor()\n",
    "    return model, torch.optim.SGD(model.parameters(), lr=lr)\n",
    "\n",
    "model, optimizer = get_model()\n",
    "loss_func(model(xb), yb)"
   ]
  },
  {
   "cell_type": "code",
   "execution_count": 30,
   "id": "42fd0837-19cc-402c-9987-800162ba229b",
   "metadata": {},
   "outputs": [
    {
     "data": {
      "application/vnd.jupyter.widget-view+json": {
       "model_id": "33f9f80bda6f40ffad7f6e7635e2a216",
       "version_major": 2,
       "version_minor": 0
      },
      "text/plain": [
       "num_epochs:   0%|          | 0/3 [00:00<?, ?it/s]"
      ]
     },
     "metadata": {},
     "output_type": "display_data"
    },
    {
     "data": {
      "application/vnd.jupyter.widget-view+json": {
       "model_id": "",
       "version_major": 2,
       "version_minor": 0
      },
      "text/plain": [
       "  0%|          | 0/887 [00:00<?, ?it/s]"
      ]
     },
     "metadata": {},
     "output_type": "display_data"
    },
    {
     "data": {
      "application/vnd.jupyter.widget-view+json": {
       "model_id": "",
       "version_major": 2,
       "version_minor": 0
      },
      "text/plain": [
       "  0%|          | 0/887 [00:00<?, ?it/s]"
      ]
     },
     "metadata": {},
     "output_type": "display_data"
    },
    {
     "data": {
      "application/vnd.jupyter.widget-view+json": {
       "model_id": "",
       "version_major": 2,
       "version_minor": 0
      },
      "text/plain": [
       "  0%|          | 0/887 [00:00<?, ?it/s]"
      ]
     },
     "metadata": {},
     "output_type": "display_data"
    },
    {
     "name": "stdout",
     "output_type": "stream",
     "text": [
      "Loss: 0.539\n",
      "Accuracy: 0.860\n"
     ]
    }
   ],
   "source": [
    "def fit():\n",
    "    for epoch in tqdm(range(epochs), desc=\"num_epochs\"):\n",
    "        for i in tqdm(range((n - 1) // bs + 1), leave=False):\n",
    "            # 1. Select mini-batch\n",
    "            start_i = i * bs\n",
    "            end_i = start_i + bs\n",
    "            xb = train_x[start_i:end_i]\n",
    "            yb = train_y[start_i:end_i]\n",
    "            # 2. Generate predictions\n",
    "            pred = model(xb)\n",
    "            # 3. Compute the loss\n",
    "            loss = loss_func(pred, yb)\n",
    "            # 4. Compute the gradients\n",
    "            loss.backward()\n",
    "            # 5. Update the weights and biases\n",
    "            optimizer.step()\n",
    "            optimizer.zero_grad()\n",
    "\n",
    "\n",
    "fit()\n",
    "print_scores()"
   ]
  },
  {
   "cell_type": "code",
   "execution_count": 31,
   "id": "22e0b812-4a29-42c2-990c-ff5791a9910b",
   "metadata": {},
   "outputs": [],
   "source": [
    "train_ds = TensorDataset(train_x, train_y)"
   ]
  },
  {
   "cell_type": "code",
   "execution_count": 32,
   "id": "2ee440d1-2317-4b38-b065-bb09752d90fd",
   "metadata": {},
   "outputs": [
    {
     "data": {
      "text/plain": [
       "908250"
      ]
     },
     "execution_count": 32,
     "metadata": {},
     "output_type": "execute_result"
    }
   ],
   "source": [
    "len(train_ds)"
   ]
  },
  {
   "cell_type": "code",
   "execution_count": 33,
   "id": "03b5a9ac-1b4c-4643-9193-a203ff02c66f",
   "metadata": {},
   "outputs": [
    {
     "data": {
      "text/plain": [
       "(tensor([6.1467e-01, 3.4553e-01, 2.0827e-01, 6.1930e-02, 2.9217e-02, 1.1426e-01,\n",
       "         3.9722e-02, 3.0127e-02, 1.1553e-01, 4.4638e-02, 3.7694e-02, 1.1224e-01,\n",
       "         5.0610e-02, 4.7183e-02, 7.6042e-02, 4.5295e-03, 2.0119e-05, 5.5926e-02,\n",
       "         2.8786e-03, 8.6186e-06]),\n",
       " tensor(1))"
      ]
     },
     "execution_count": 33,
     "metadata": {},
     "output_type": "execute_result"
    }
   ],
   "source": [
    "train_ds[0]"
   ]
  },
  {
   "cell_type": "code",
   "execution_count": 34,
   "id": "ae79a676-e848-4fe2-9ffd-cb8ca31af225",
   "metadata": {},
   "outputs": [
    {
     "data": {
      "application/vnd.jupyter.widget-view+json": {
       "model_id": "23de19892c35442aa0ee01490939b015",
       "version_major": 2,
       "version_minor": 0
      },
      "text/plain": [
       "num_epochs:   0%|          | 0/3 [00:00<?, ?it/s]"
      ]
     },
     "metadata": {},
     "output_type": "display_data"
    },
    {
     "data": {
      "application/vnd.jupyter.widget-view+json": {
       "model_id": "",
       "version_major": 2,
       "version_minor": 0
      },
      "text/plain": [
       "  0%|          | 0/887 [00:00<?, ?it/s]"
      ]
     },
     "metadata": {},
     "output_type": "display_data"
    },
    {
     "data": {
      "application/vnd.jupyter.widget-view+json": {
       "model_id": "",
       "version_major": 2,
       "version_minor": 0
      },
      "text/plain": [
       "  0%|          | 0/887 [00:00<?, ?it/s]"
      ]
     },
     "metadata": {},
     "output_type": "display_data"
    },
    {
     "data": {
      "application/vnd.jupyter.widget-view+json": {
       "model_id": "",
       "version_major": 2,
       "version_minor": 0
      },
      "text/plain": [
       "  0%|          | 0/887 [00:00<?, ?it/s]"
      ]
     },
     "metadata": {},
     "output_type": "display_data"
    },
    {
     "name": "stdout",
     "output_type": "stream",
     "text": [
      "Loss: 0.541\n",
      "Accuracy: 0.857\n"
     ]
    }
   ],
   "source": [
    "model, optimizer = get_model()\n",
    "\n",
    "\n",
    "def fit():\n",
    "    for epoch in tqdm(range(epochs), desc=\"num_epochs\"):\n",
    "        for i in tqdm(range((n - 1) // bs + 1), leave=False):\n",
    "            # 1. Select mini-batch\n",
    "            xb, yb = train_ds[i * bs : i * bs + bs]\n",
    "            # 2. Generate predictions\n",
    "            pred = model(xb)\n",
    "            # 3. Compute the loss\n",
    "            loss = loss_func(pred, yb)\n",
    "            # 4. Compute the gradients\n",
    "            loss.backward()\n",
    "            # 5. Update the weights and biases\n",
    "            optimizer.step()\n",
    "            optimizer.zero_grad()\n",
    "\n",
    "\n",
    "fit()\n",
    "print_scores()"
   ]
  },
  {
   "cell_type": "code",
   "execution_count": 35,
   "id": "8484a49a-af04-47f6-85be-1c5f1ace5f2a",
   "metadata": {},
   "outputs": [
    {
     "data": {
      "text/plain": [
       "[tensor([[6.3268e-01, 7.1266e-02, 6.7265e-02,  ..., 1.5679e-02, 5.9481e-04,\n",
       "          1.0084e-06],\n",
       "         [5.5470e-01, 3.2794e-01, 1.4114e-01,  ..., 3.8751e-02, 2.0627e-03,\n",
       "          1.1118e-05],\n",
       "         [5.8864e-01, 4.2167e-01, 1.9011e-01,  ..., 4.6003e-02, 2.2277e-03,\n",
       "          5.5698e-06],\n",
       "         ...,\n",
       "         [7.7654e-01, 4.6069e-01, 1.9646e-01,  ..., 5.1050e-02, 2.0193e-03,\n",
       "          4.1955e-06],\n",
       "         [5.1658e-01, 5.9622e-02, 5.8521e-02,  ..., 5.2730e-02, 2.2624e-03,\n",
       "          6.7991e-06],\n",
       "         [8.5039e-01, 3.4621e-02, 4.1556e-02,  ..., 0.0000e+00, 0.0000e+00,\n",
       "          0.0000e+00]]),\n",
       " tensor([0, 1, 1,  ..., 1, 0, 0])]"
      ]
     },
     "execution_count": 35,
     "metadata": {},
     "output_type": "execute_result"
    }
   ],
   "source": [
    "train_ds = TensorDataset(train_x, train_y)\n",
    "train_dl = DataLoader(train_ds, batch_size=bs, shuffle=True)\n",
    "next(iter(train_dl))"
   ]
  },
  {
   "cell_type": "code",
   "execution_count": 36,
   "id": "82135f66-f210-411e-9b43-d5681a401863",
   "metadata": {},
   "outputs": [
    {
     "data": {
      "application/vnd.jupyter.widget-view+json": {
       "model_id": "abbedcf56ef04635a1e490342dfa3d30",
       "version_major": 2,
       "version_minor": 0
      },
      "text/plain": [
       "num_epochs:   0%|          | 0/3 [00:00<?, ?it/s]"
      ]
     },
     "metadata": {},
     "output_type": "display_data"
    },
    {
     "data": {
      "application/vnd.jupyter.widget-view+json": {
       "model_id": "",
       "version_major": 2,
       "version_minor": 0
      },
      "text/plain": [
       "  0%|          | 0/887 [00:00<?, ?it/s]"
      ]
     },
     "metadata": {},
     "output_type": "display_data"
    },
    {
     "data": {
      "application/vnd.jupyter.widget-view+json": {
       "model_id": "",
       "version_major": 2,
       "version_minor": 0
      },
      "text/plain": [
       "  0%|          | 0/887 [00:00<?, ?it/s]"
      ]
     },
     "metadata": {},
     "output_type": "display_data"
    },
    {
     "data": {
      "application/vnd.jupyter.widget-view+json": {
       "model_id": "",
       "version_major": 2,
       "version_minor": 0
      },
      "text/plain": [
       "  0%|          | 0/887 [00:00<?, ?it/s]"
      ]
     },
     "metadata": {},
     "output_type": "display_data"
    },
    {
     "name": "stdout",
     "output_type": "stream",
     "text": [
      "Loss: 0.541\n",
      "Accuracy: 0.861\n"
     ]
    }
   ],
   "source": [
    "model, optimizer = get_model()\n",
    "\n",
    "\n",
    "def fit():\n",
    "    for epoch in tqdm(range(epochs), desc=\"num_epochs\"):\n",
    "        # 1. Select mini-batch\n",
    "        for xb, yb in tqdm(train_dl, leave=False):\n",
    "            # 2. Generate predictions\n",
    "            pred = model(xb)\n",
    "            # 3. Compute the loss\n",
    "            loss = loss_func(pred, yb)\n",
    "            # 4. Compute the gradients\n",
    "            loss.backward()\n",
    "            # 5. Update the weights and biases\n",
    "            optimizer.step()\n",
    "            optimizer.zero_grad()\n",
    "\n",
    "\n",
    "fit()\n",
    "print_scores()"
   ]
  },
  {
   "cell_type": "code",
   "execution_count": 37,
   "id": "872dcebe-457b-469e-906c-75e1134f2187",
   "metadata": {},
   "outputs": [],
   "source": [
    "model = nn.Sequential(\n",
    "    nn.Linear(20,200),\n",
    "    nn.ReLU(),\n",
    "    nn.Linear(200,200),\n",
    "    nn.ReLU(),\n",
    "    nn.Dropout(p=0.2),\n",
    "    nn.Linear(200,50),\n",
    "    nn.ReLU(),\n",
    "    nn.Linear(50,50),\n",
    "    nn.ReLU(),\n",
    "    nn.Dropout(p=0.1),\n",
    "    nn.Linear(50,2),\n",
    "    \n",
    ")"
   ]
  },
  {
   "cell_type": "code",
   "execution_count": 38,
   "id": "c4d4a280-3fc2-476c-9a2a-5b9abe8efc20",
   "metadata": {},
   "outputs": [
    {
     "data": {
      "application/vnd.jupyter.widget-view+json": {
       "model_id": "a48c9755bb7d4058bbb64c82defdc455",
       "version_major": 2,
       "version_minor": 0
      },
      "text/plain": [
       "num_epochs:   0%|          | 0/3 [00:00<?, ?it/s]"
      ]
     },
     "metadata": {},
     "output_type": "display_data"
    },
    {
     "data": {
      "application/vnd.jupyter.widget-view+json": {
       "model_id": "",
       "version_major": 2,
       "version_minor": 0
      },
      "text/plain": [
       "  0%|          | 0/887 [00:00<?, ?it/s]"
      ]
     },
     "metadata": {},
     "output_type": "display_data"
    },
    {
     "data": {
      "application/vnd.jupyter.widget-view+json": {
       "model_id": "",
       "version_major": 2,
       "version_minor": 0
      },
      "text/plain": [
       "  0%|          | 0/887 [00:00<?, ?it/s]"
      ]
     },
     "metadata": {},
     "output_type": "display_data"
    },
    {
     "data": {
      "application/vnd.jupyter.widget-view+json": {
       "model_id": "",
       "version_major": 2,
       "version_minor": 0
      },
      "text/plain": [
       "  0%|          | 0/887 [00:00<?, ?it/s]"
      ]
     },
     "metadata": {},
     "output_type": "display_data"
    },
    {
     "name": "stdout",
     "output_type": "stream",
     "text": [
      "Loss: 0.257\n",
      "Accuracy: 0.888\n"
     ]
    }
   ],
   "source": [
    "optimizer = torch.optim.Adam(model.parameters(), lr=lr)\n",
    "\n",
    "fit()\n",
    "print_scores()"
   ]
  },
  {
   "cell_type": "code",
   "execution_count": null,
   "id": "e5334d5d-776a-4fad-843c-0b5b458b8a6a",
   "metadata": {},
   "outputs": [],
   "source": []
  }
 ],
 "metadata": {
  "kernelspec": {
   "display_name": "Python 3 (ipykernel)",
   "language": "python",
   "name": "python3"
  },
  "language_info": {
   "codemirror_mode": {
    "name": "ipython",
    "version": 3
   },
   "file_extension": ".py",
   "mimetype": "text/x-python",
   "name": "python",
   "nbconvert_exporter": "python",
   "pygments_lexer": "ipython3",
   "version": "3.12.7"
  }
 },
 "nbformat": 4,
 "nbformat_minor": 5
}
