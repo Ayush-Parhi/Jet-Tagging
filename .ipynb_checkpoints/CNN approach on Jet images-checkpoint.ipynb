{
 "cells": [
  {
   "cell_type": "code",
   "execution_count": 1,
   "id": "5600de4a-c6b0-498d-b8bf-60b6ec7fb079",
   "metadata": {},
   "outputs": [],
   "source": [
    "import pandas as pd\n",
    "from datasets import load_dataset\n",
    "from energyflow.utils import (\n",
    "    center_ptyphims,\n",
    "    phi_fix,\n",
    "    pixelate,\n",
    "    ptyphims_from_p4s,\n",
    "    reflect_ptyphims,\n",
    "    rotate_ptyphims,\n",
    ")\n",
    "from fastai.vision.all import *\n",
    "from huggingface_hub import from_pretrained_fastai\n",
    "from sklearn.metrics import accuracy_score, auc, roc_auc_score, roc_curve\n",
    "from torch.utils.data import Dataset, TensorDataset\n",
    "from torchvision.transforms import ToTensor\n",
    "from scipy.interpolate import interp1d"
   ]
  },
  {
   "cell_type": "code",
   "execution_count": 2,
   "id": "92fb9f96-a7bd-4335-be68-e9f91bd32e91",
   "metadata": {},
   "outputs": [],
   "source": [
    "import datasets\n",
    "\n",
    "# Suppress logs to keep things tidy\n",
    "datasets.logging.set_verbosity_error()"
   ]
  },
  {
   "cell_type": "code",
   "execution_count": 3,
   "id": "b7996433-6cb8-4f0c-b9f4-184fcd45edad",
   "metadata": {},
   "outputs": [
    {
     "data": {
      "text/html": [
       "<div>\n",
       "<style scoped>\n",
       "    .dataframe tbody tr th:only-of-type {\n",
       "        vertical-align: middle;\n",
       "    }\n",
       "\n",
       "    .dataframe tbody tr th {\n",
       "        vertical-align: top;\n",
       "    }\n",
       "\n",
       "    .dataframe thead th {\n",
       "        text-align: right;\n",
       "    }\n",
       "</style>\n",
       "<table border=\"1\" class=\"dataframe\">\n",
       "  <thead>\n",
       "    <tr style=\"text-align: right;\">\n",
       "      <th></th>\n",
       "      <th>E_0</th>\n",
       "      <th>PX_0</th>\n",
       "      <th>PY_0</th>\n",
       "      <th>PZ_0</th>\n",
       "      <th>E_1</th>\n",
       "      <th>PX_1</th>\n",
       "      <th>PY_1</th>\n",
       "      <th>PZ_1</th>\n",
       "      <th>E_2</th>\n",
       "      <th>PX_2</th>\n",
       "      <th>...</th>\n",
       "      <th>E_199</th>\n",
       "      <th>PX_199</th>\n",
       "      <th>PY_199</th>\n",
       "      <th>PZ_199</th>\n",
       "      <th>truthE</th>\n",
       "      <th>truthPX</th>\n",
       "      <th>truthPY</th>\n",
       "      <th>truthPZ</th>\n",
       "      <th>ttv</th>\n",
       "      <th>is_signal_new</th>\n",
       "    </tr>\n",
       "  </thead>\n",
       "  <tbody>\n",
       "    <tr>\n",
       "      <th>0</th>\n",
       "      <td>130.172562</td>\n",
       "      <td>114.353065</td>\n",
       "      <td>-59.476486</td>\n",
       "      <td>18.188450</td>\n",
       "      <td>58.261734</td>\n",
       "      <td>56.383465</td>\n",
       "      <td>-6.442986</td>\n",
       "      <td>-13.184177</td>\n",
       "      <td>43.596382</td>\n",
       "      <td>37.914547</td>\n",
       "      <td>...</td>\n",
       "      <td>0.0</td>\n",
       "      <td>0.0</td>\n",
       "      <td>0.0</td>\n",
       "      <td>0.0</td>\n",
       "      <td>496.599976</td>\n",
       "      <td>418.331940</td>\n",
       "      <td>-202.994308</td>\n",
       "      <td>43.685955</td>\n",
       "      <td>2</td>\n",
       "      <td>1</td>\n",
       "    </tr>\n",
       "    <tr>\n",
       "      <th>1</th>\n",
       "      <td>144.244232</td>\n",
       "      <td>44.394894</td>\n",
       "      <td>71.800972</td>\n",
       "      <td>-116.962021</td>\n",
       "      <td>176.547729</td>\n",
       "      <td>61.791088</td>\n",
       "      <td>51.010948</td>\n",
       "      <td>-157.317657</td>\n",
       "      <td>134.554794</td>\n",
       "      <td>47.264194</td>\n",
       "      <td>...</td>\n",
       "      <td>0.0</td>\n",
       "      <td>0.0</td>\n",
       "      <td>0.0</td>\n",
       "      <td>0.0</td>\n",
       "      <td>1061.465576</td>\n",
       "      <td>240.111099</td>\n",
       "      <td>465.869263</td>\n",
       "      <td>-906.836731</td>\n",
       "      <td>2</td>\n",
       "      <td>1</td>\n",
       "    </tr>\n",
       "    <tr>\n",
       "      <th>2</th>\n",
       "      <td>164.264938</td>\n",
       "      <td>29.799849</td>\n",
       "      <td>-155.011093</td>\n",
       "      <td>45.458752</td>\n",
       "      <td>154.540726</td>\n",
       "      <td>34.444710</td>\n",
       "      <td>-140.643768</td>\n",
       "      <td>53.997475</td>\n",
       "      <td>102.357109</td>\n",
       "      <td>19.766624</td>\n",
       "      <td>...</td>\n",
       "      <td>0.0</td>\n",
       "      <td>0.0</td>\n",
       "      <td>0.0</td>\n",
       "      <td>0.0</td>\n",
       "      <td>0.000000</td>\n",
       "      <td>0.000000</td>\n",
       "      <td>0.000000</td>\n",
       "      <td>0.000000</td>\n",
       "      <td>2</td>\n",
       "      <td>0</td>\n",
       "    </tr>\n",
       "    <tr>\n",
       "      <th>3</th>\n",
       "      <td>190.001175</td>\n",
       "      <td>-59.107372</td>\n",
       "      <td>-180.212479</td>\n",
       "      <td>11.411892</td>\n",
       "      <td>36.530270</td>\n",
       "      <td>-16.578011</td>\n",
       "      <td>-32.546757</td>\n",
       "      <td>0.582238</td>\n",
       "      <td>28.827248</td>\n",
       "      <td>-10.152600</td>\n",
       "      <td>...</td>\n",
       "      <td>0.0</td>\n",
       "      <td>0.0</td>\n",
       "      <td>0.0</td>\n",
       "      <td>0.0</td>\n",
       "      <td>0.000000</td>\n",
       "      <td>0.000000</td>\n",
       "      <td>0.000000</td>\n",
       "      <td>0.000000</td>\n",
       "      <td>2</td>\n",
       "      <td>0</td>\n",
       "    </tr>\n",
       "    <tr>\n",
       "      <th>4</th>\n",
       "      <td>197.350937</td>\n",
       "      <td>-190.924622</td>\n",
       "      <td>-28.691614</td>\n",
       "      <td>-40.889717</td>\n",
       "      <td>65.894730</td>\n",
       "      <td>-63.749012</td>\n",
       "      <td>-9.580021</td>\n",
       "      <td>-13.652922</td>\n",
       "      <td>53.116070</td>\n",
       "      <td>-52.294987</td>\n",
       "      <td>...</td>\n",
       "      <td>0.0</td>\n",
       "      <td>0.0</td>\n",
       "      <td>0.0</td>\n",
       "      <td>0.0</td>\n",
       "      <td>0.000000</td>\n",
       "      <td>0.000000</td>\n",
       "      <td>0.000000</td>\n",
       "      <td>0.000000</td>\n",
       "      <td>2</td>\n",
       "      <td>0</td>\n",
       "    </tr>\n",
       "  </tbody>\n",
       "</table>\n",
       "<p>5 rows × 806 columns</p>\n",
       "</div>"
      ],
      "text/plain": [
       "          E_0        PX_0        PY_0        PZ_0         E_1       PX_1  \\\n",
       "0  130.172562  114.353065  -59.476486   18.188450   58.261734  56.383465   \n",
       "1  144.244232   44.394894   71.800972 -116.962021  176.547729  61.791088   \n",
       "2  164.264938   29.799849 -155.011093   45.458752  154.540726  34.444710   \n",
       "3  190.001175  -59.107372 -180.212479   11.411892   36.530270 -16.578011   \n",
       "4  197.350937 -190.924622  -28.691614  -40.889717   65.894730 -63.749012   \n",
       "\n",
       "         PY_1        PZ_1         E_2       PX_2  ...  E_199  PX_199  PY_199  \\\n",
       "0   -6.442986  -13.184177   43.596382  37.914547  ...    0.0     0.0     0.0   \n",
       "1   51.010948 -157.317657  134.554794  47.264194  ...    0.0     0.0     0.0   \n",
       "2 -140.643768   53.997475  102.357109  19.766624  ...    0.0     0.0     0.0   \n",
       "3  -32.546757    0.582238   28.827248 -10.152600  ...    0.0     0.0     0.0   \n",
       "4   -9.580021  -13.652922   53.116070 -52.294987  ...    0.0     0.0     0.0   \n",
       "\n",
       "   PZ_199       truthE     truthPX     truthPY     truthPZ  ttv  is_signal_new  \n",
       "0     0.0   496.599976  418.331940 -202.994308   43.685955    2              1  \n",
       "1     0.0  1061.465576  240.111099  465.869263 -906.836731    2              1  \n",
       "2     0.0     0.000000    0.000000    0.000000    0.000000    2              0  \n",
       "3     0.0     0.000000    0.000000    0.000000    0.000000    2              0  \n",
       "4     0.0     0.000000    0.000000    0.000000    0.000000    2              0  \n",
       "\n",
       "[5 rows x 806 columns]"
      ]
     },
     "execution_count": 3,
     "metadata": {},
     "output_type": "execute_result"
    }
   ],
   "source": [
    "raw_events = load_dataset(\"dl4phys/top_tagging\", split=\"validation\")\n",
    "sample_df = raw_events.shuffle(seed=42).select(range(10_000)).to_pandas()\n",
    "sample_df.head()"
   ]
  },
  {
   "cell_type": "code",
   "execution_count": 4,
   "id": "18b68cb2-9f03-46b2-8760-f4ed68a37ca5",
   "metadata": {},
   "outputs": [
    {
     "data": {
      "text/plain": [
       "((10000, 200, 4), (10000,))"
      ]
     },
     "execution_count": 4,
     "metadata": {},
     "output_type": "execute_result"
    }
   ],
   "source": [
    "# Reshape to size (num_jets, num_consituents, 4)\n",
    "events = sample_df.iloc[:, :800].values.reshape(-1, 200, 4)\n",
    "# Extract array of labels\n",
    "labels = sample_df[\"is_signal_new\"].values\n",
    "\n",
    "events.shape, labels.shape"
   ]
  },
  {
   "cell_type": "code",
   "execution_count": 5,
   "id": "c0059cf9-453e-4192-825c-bc149347ec38",
   "metadata": {},
   "outputs": [],
   "source": [
    "events_hadronic = ptyphims_from_p4s(events, phi_ref=\"hardest\", mass=True)"
   ]
  },
  {
   "cell_type": "code",
   "execution_count": 6,
   "id": "9996bd4e-39f1-4216-b98f-778d80c8a7ba",
   "metadata": {},
   "outputs": [],
   "source": [
    "events_centered = [center_ptyphims(event) for event in events_hadronic]"
   ]
  },
  {
   "cell_type": "code",
   "execution_count": 7,
   "id": "73cc9f2f-5692-457c-9fbf-39732426a0c0",
   "metadata": {},
   "outputs": [],
   "source": [
    "events_reflected_and_rotated = [\n",
    "    reflect_ptyphims(rotate_ptyphims(event)) for event in events_centered\n",
    "]"
   ]
  },
  {
   "cell_type": "code",
   "execution_count": 8,
   "id": "5d8c1234-f963-47e3-a2bb-f32b274858d1",
   "metadata": {},
   "outputs": [],
   "source": [
    "images = [\n",
    "    pixelate(\n",
    "        event,\n",
    "        npix=40,\n",
    "        img_width=0.8,\n",
    "        nb_chan=1,\n",
    "        norm=False,\n",
    "        charged_counts_only=False,\n",
    "    )\n",
    "    for event in events_reflected_and_rotated\n",
    "]\n",
    "\n",
    "images = np.array(images).reshape(len(images), 40, 40)"
   ]
  },
  {
   "cell_type": "code",
   "execution_count": 9,
   "id": "edba1a15-8d35-4dcd-979a-411fdfab07de",
   "metadata": {},
   "outputs": [],
   "source": [
    "top_images = images[labels == 1]\n",
    "qcd_images = images[labels == 0]"
   ]
  },
  {
   "cell_type": "code",
   "execution_count": 10,
   "id": "3eb1260f-32f8-4783-b118-68f26b49f3e9",
   "metadata": {},
   "outputs": [
    {
     "data": {
      "image/png": "[encoded data removed]",
      "text/plain": [
       "<Figure size 800x400 with 2 Axes>"
      ]
     },
     "metadata": {},
     "output_type": "display_data"
    },
    {
     "data": {
      "image/png": "[encoded data removed]",
      "text/plain": [
       "<Figure size 800x400 with 2 Axes>"
      ]
     },
     "metadata": {},
     "output_type": "display_data"
    }
   ],
   "source": [
    "for i in range(2):\n",
    "    plt.figure(figsize=(8, 4))\n",
    "    plt.subplot(1, 2, 1)\n",
    "    plt.title(\"QCD background\")\n",
    "    plt.imshow(qcd_images[i])\n",
    "    plt.subplot(1, 2, 2)\n",
    "    plt.title(\"Top quark\")\n",
    "    plt.imshow(top_images[i])\n",
    "    plt.tight_layout()\n",
    "    plt.show()"
   ]
  },
  {
   "cell_type": "code",
   "execution_count": 11,
   "id": "ea6dd301-3b85-4dea-bae0-7b41d9396d5b",
   "metadata": {},
   "outputs": [
    {
     "name": "stderr",
     "output_type": "stream",
     "text": [
      "<>:5: SyntaxWarning: invalid escape sequence '\\e'\n",
      "<>:6: SyntaxWarning: invalid escape sequence '\\p'\n",
      "<>:11: SyntaxWarning: invalid escape sequence '\\e'\n",
      "<>:12: SyntaxWarning: invalid escape sequence '\\p'\n",
      "<>:5: SyntaxWarning: invalid escape sequence '\\e'\n",
      "<>:6: SyntaxWarning: invalid escape sequence '\\p'\n",
      "<>:11: SyntaxWarning: invalid escape sequence '\\e'\n",
      "<>:12: SyntaxWarning: invalid escape sequence '\\p'\n",
      "C:\\Users\\Ayush\\AppData\\Local\\Temp\\ipykernel_19140\\2118213832.py:5: SyntaxWarning: invalid escape sequence '\\e'\n",
      "  plt.xlabel(\"$\\eta$\")\n",
      "C:\\Users\\Ayush\\AppData\\Local\\Temp\\ipykernel_19140\\2118213832.py:6: SyntaxWarning: invalid escape sequence '\\p'\n",
      "  plt.ylabel(\"$\\phi$\")\n",
      "C:\\Users\\Ayush\\AppData\\Local\\Temp\\ipykernel_19140\\2118213832.py:11: SyntaxWarning: invalid escape sequence '\\e'\n",
      "  plt.xlabel(\"$\\eta$\")\n",
      "C:\\Users\\Ayush\\AppData\\Local\\Temp\\ipykernel_19140\\2118213832.py:12: SyntaxWarning: invalid escape sequence '\\p'\n",
      "  plt.ylabel(\"$\\phi$\")\n"
     ]
    },
    {
     "data": {
      "image/png": "[encoded data removed]",
      "text/plain": [
       "<Figure size 800x400 with 2 Axes>"
      ]
     },
     "metadata": {},
     "output_type": "display_data"
    }
   ],
   "source": [
    "plt.figure(figsize=(8, 4))\n",
    "plt.subplot(1, 2, 1)\n",
    "plt.imshow(np.sum(qcd_images, axis=0))\n",
    "plt.title(\"Average QCD\")\n",
    "plt.xlabel(\"$\\eta$\")\n",
    "plt.ylabel(\"$\\phi$\")\n",
    "\n",
    "plt.subplot(1, 2, 2)\n",
    "plt.imshow(np.sum(top_images, axis=0))\n",
    "plt.title(\"Average top\")\n",
    "plt.xlabel(\"$\\eta$\")\n",
    "plt.ylabel(\"$\\phi$\")\n",
    "\n",
    "plt.tight_layout()\n",
    "plt.show()"
   ]
  },
  {
   "cell_type": "code",
   "execution_count": 12,
   "id": "f7655595-ec53-40a3-ae76-841f8fb6eb91",
   "metadata": {},
   "outputs": [
    {
     "data": {
      "text/plain": [
       "DatasetDict({\n",
       "    train: Dataset({\n",
       "        features: ['image', 'label'],\n",
       "        num_rows: 1211000\n",
       "    })\n",
       "    validation: Dataset({\n",
       "        features: ['image', 'label'],\n",
       "        num_rows: 403000\n",
       "    })\n",
       "    test: Dataset({\n",
       "        features: ['image', 'label'],\n",
       "        num_rows: 404000\n",
       "    })\n",
       "})"
      ]
     },
     "execution_count": 12,
     "metadata": {},
     "output_type": "execute_result"
    }
   ],
   "source": [
    "images_ds = load_dataset(\"dl4phys/top_tagging_images\")\n",
    "images_ds"
   ]
  },
  {
   "cell_type": "code",
   "execution_count": 13,
   "id": "8c8f8a32-5b3a-43f9-9327-a9b1ca8a6105",
   "metadata": {},
   "outputs": [
    {
     "data": {
      "image/png": "[encoded data removed]",
      "text/plain": [
       "<Figure size 640x480 with 1 Axes>"
      ]
     },
     "metadata": {},
     "output_type": "display_data"
    }
   ],
   "source": [
    "img = images_ds[\"train\"][0][\"image\"]\n",
    "plt.imshow(img);"
   ]
  },
  {
   "cell_type": "code",
   "execution_count": 14,
   "id": "2e0a133c-2ae9-4f3a-ac6e-8b964ba77d0b",
   "metadata": {},
   "outputs": [
    {
     "data": {
      "text/plain": [
       "torch.Size([1, 40, 40])"
      ]
     },
     "execution_count": 14,
     "metadata": {},
     "output_type": "execute_result"
    }
   ],
   "source": [
    "t = ToTensor()(img)\n",
    "t.shape"
   ]
  },
  {
   "cell_type": "code",
   "execution_count": 15,
   "id": "d12e822f-7977-446a-96dc-db4a39c66db7",
   "metadata": {},
   "outputs": [
    {
     "data": {
      "text/plain": [
       "torch.Size([10, 40, 40])"
      ]
     },
     "execution_count": 15,
     "metadata": {},
     "output_type": "execute_result"
    }
   ],
   "source": [
    "x = torch.cat([ToTensor()(img) for img in images_ds[\"train\"][:10][\"image\"]])\n",
    "x.shape"
   ]
  },
  {
   "cell_type": "code",
   "execution_count": 16,
   "id": "ebff1f41-f76e-4b09-997c-a3c49d3a0914",
   "metadata": {},
   "outputs": [
    {
     "data": {
      "text/plain": [
       "torch.Size([10, 1, 40, 40])"
      ]
     },
     "execution_count": 16,
     "metadata": {},
     "output_type": "execute_result"
    }
   ],
   "source": [
    "x = torch.cat([ToTensor()(img) for img in images_ds[\"train\"][:10][\"image\"]])\n",
    "x.unsqueeze_(dim=1)\n",
    "x.shape"
   ]
  },
  {
   "cell_type": "code",
   "execution_count": 17,
   "id": "8db9e617-06e1-4bc4-a4e4-1c07111eff66",
   "metadata": {},
   "outputs": [],
   "source": [
    "def get_dataset(dataset, num_examples=None):\n",
    "    if num_examples is not None:\n",
    "        dataset = dataset.shuffle(seed=42).select(range(num_examples))\n",
    "\n",
    "    x = torch.cat([ToTensor()(img) for img in dataset[\"image\"]]).unsqueeze(1)\n",
    "    y = torch.cat([torch.tensor(l).unsqueeze(0) for l in dataset[\"label\"]])\n",
    "\n",
    "    return TensorDataset(x, y)"
   ]
  },
  {
   "cell_type": "code",
   "execution_count": 18,
   "id": "705427ef-395b-4d4b-bbdb-9013590473ab",
   "metadata": {},
   "outputs": [],
   "source": [
    "train_ds = get_dataset(images_ds[\"train\"], num_examples=350_000)\n",
    "valid_ds = get_dataset(images_ds[\"validation\"], num_examples=50_000)"
   ]
  },
  {
   "cell_type": "code",
   "execution_count": 19,
   "id": "86d5d2f0-92fd-408a-b6ec-fa3c3ace7309",
   "metadata": {},
   "outputs": [],
   "source": [
    "train_dl = DataLoader(train_ds, bs=128, shuffle=True)\n",
    "valid_dl = DataLoader(valid_ds, bs=128)\n",
    "dls = DataLoaders(train_dl, valid_dl)"
   ]
  },
  {
   "cell_type": "code",
   "execution_count": 20,
   "id": "15234a9d-5147-4055-9b4c-b4fbe5373805",
   "metadata": {},
   "outputs": [],
   "source": [
    "learn = vision_learner(\n",
    "    dls,\n",
    "    resnet34,\n",
    "    metrics=[accuracy, RocAucBinary()],\n",
    "    n_in=1,\n",
    "    n_out=2,\n",
    "    normalize=False,\n",
    "    loss_func=F.cross_entropy,\n",
    ")"
   ]
  },
  {
   "cell_type": "code",
   "execution_count": 21,
   "id": "a0a4c3ca-fbd7-443d-9ce1-38ccee27c7b4",
   "metadata": {},
   "outputs": [],
   "source": [
    "learn.model.to(\"cuda\");"
   ]
  },
  {
   "cell_type": "code",
   "execution_count": 22,
   "id": "2f600e7e-ce1d-437b-b125-f72e08af7401",
   "metadata": {},
   "outputs": [
    {
     "data": {
      "text/html": [
       "\n",
       "<style>\n",
       "    /* Turns off some styling */\n",
       "    progress {\n",
       "        /* gets rid of default border in Firefox and Opera. */\n",
       "        border: none;\n",
       "        /* Needs to be in here for Safari polyfill so background images work as expected. */\n",
       "        background-size: auto;\n",
       "    }\n",
       "    progress:not([value]), progress:not([value])::-webkit-progress-bar {\n",
       "        background: repeating-linear-gradient(45deg, #7e7e7e, #7e7e7e 10px, #5c5c5c 10px, #5c5c5c 20px);\n",
       "    }\n",
       "    .progress-bar-interrupted, .progress-bar-interrupted::-webkit-progress-bar {\n",
       "        background: #F44336;\n",
       "    }\n",
       "</style>\n"
      ],
      "text/plain": [
       "<IPython.core.display.HTML object>"
      ]
     },
     "metadata": {},
     "output_type": "display_data"
    },
    {
     "data": {
      "text/html": [],
      "text/plain": [
       "<IPython.core.display.HTML object>"
      ]
     },
     "metadata": {},
     "output_type": "display_data"
    },
    {
     "name": "stderr",
     "output_type": "stream",
     "text": [
      "C:\\Users\\Ayush\\AppData\\Local\\Programs\\Python\\Python312\\Lib\\site-packages\\fastai\\learner.py:53: FutureWarning: You are using `torch.load` with `weights_only=False` (the current default value), which uses the default pickle module implicitly. It is possible to construct malicious pickle data which will execute arbitrary code during unpickling (See https://github.com/pytorch/pytorch/blob/main/SECURITY.md#untrusted-models for more details). In a future release, the default value for `weights_only` will be flipped to `True`. This limits the functions that could be executed during unpickling. Arbitrary objects will no longer be allowed to be loaded via this mode unless they are explicitly allowlisted by the user via `torch.serialization.add_safe_globals`. We recommend you start setting `weights_only=True` for any use case where you don't have full control of the loaded file. Please open an issue on GitHub for any issues related to this experimental feature.\n",
      "  state = torch.load(file, map_location=device, **torch_load_kwargs)\n"
     ]
    },
    {
     "data": {
      "text/plain": [
       "SuggestedLRs(valley=0.001737800776027143)"
      ]
     },
     "execution_count": 22,
     "metadata": {},
     "output_type": "execute_result"
    },
    {
     "data": {
      "image/png": "[encoded data removed]",
      "text/plain": [
       "<Figure size 640x480 with 1 Axes>"
      ]
     },
     "metadata": {},
     "output_type": "display_data"
    }
   ],
   "source": [
    "learn.lr_find()"
   ]
  },
  {
   "cell_type": "code",
   "execution_count": 23,
   "id": "79948ee1-6b8b-48e2-b47e-16e9468467d2",
   "metadata": {},
   "outputs": [
    {
     "data": {
      "text/html": [
       "\n",
       "<style>\n",
       "    /* Turns off some styling */\n",
       "    progress {\n",
       "        /* gets rid of default border in Firefox and Opera. */\n",
       "        border: none;\n",
       "        /* Needs to be in here for Safari polyfill so background images work as expected. */\n",
       "        background-size: auto;\n",
       "    }\n",
       "    progress:not([value]), progress:not([value])::-webkit-progress-bar {\n",
       "        background: repeating-linear-gradient(45deg, #7e7e7e, #7e7e7e 10px, #5c5c5c 10px, #5c5c5c 20px);\n",
       "    }\n",
       "    .progress-bar-interrupted, .progress-bar-interrupted::-webkit-progress-bar {\n",
       "        background: #F44336;\n",
       "    }\n",
       "</style>\n"
      ],
      "text/plain": [
       "<IPython.core.display.HTML object>"
      ]
     },
     "metadata": {},
     "output_type": "display_data"
    },
    {
     "data": {
      "text/html": [
       "<table border=\"1\" class=\"dataframe\">\n",
       "  <thead>\n",
       "    <tr style=\"text-align: left;\">\n",
       "      <th>epoch</th>\n",
       "      <th>train_loss</th>\n",
       "      <th>valid_loss</th>\n",
       "      <th>accuracy</th>\n",
       "      <th>roc_auc_score</th>\n",
       "      <th>time</th>\n",
       "    </tr>\n",
       "  </thead>\n",
       "  <tbody>\n",
       "    <tr>\n",
       "      <td>0</td>\n",
       "      <td>0.301891</td>\n",
       "      <td>0.284050</td>\n",
       "      <td>0.878820</td>\n",
       "      <td>0.949528</td>\n",
       "      <td>02:13</td>\n",
       "    </tr>\n",
       "  </tbody>\n",
       "</table>"
      ],
      "text/plain": [
       "<IPython.core.display.HTML object>"
      ]
     },
     "metadata": {},
     "output_type": "display_data"
    },
    {
     "data": {
      "text/html": [
       "\n",
       "<style>\n",
       "    /* Turns off some styling */\n",
       "    progress {\n",
       "        /* gets rid of default border in Firefox and Opera. */\n",
       "        border: none;\n",
       "        /* Needs to be in here for Safari polyfill so background images work as expected. */\n",
       "        background-size: auto;\n",
       "    }\n",
       "    progress:not([value]), progress:not([value])::-webkit-progress-bar {\n",
       "        background: repeating-linear-gradient(45deg, #7e7e7e, #7e7e7e 10px, #5c5c5c 10px, #5c5c5c 20px);\n",
       "    }\n",
       "    .progress-bar-interrupted, .progress-bar-interrupted::-webkit-progress-bar {\n",
       "        background: #F44336;\n",
       "    }\n",
       "</style>\n"
      ],
      "text/plain": [
       "<IPython.core.display.HTML object>"
      ]
     },
     "metadata": {},
     "output_type": "display_data"
    },
    {
     "data": {
      "text/html": [
       "<table border=\"1\" class=\"dataframe\">\n",
       "  <thead>\n",
       "    <tr style=\"text-align: left;\">\n",
       "      <th>epoch</th>\n",
       "      <th>train_loss</th>\n",
       "      <th>valid_loss</th>\n",
       "      <th>accuracy</th>\n",
       "      <th>roc_auc_score</th>\n",
       "      <th>time</th>\n",
       "    </tr>\n",
       "  </thead>\n",
       "  <tbody>\n",
       "    <tr>\n",
       "      <td>0</td>\n",
       "      <td>0.243680</td>\n",
       "      <td>0.234028</td>\n",
       "      <td>0.901440</td>\n",
       "      <td>0.966077</td>\n",
       "      <td>03:46</td>\n",
       "    </tr>\n",
       "    <tr>\n",
       "      <td>1</td>\n",
       "      <td>0.218904</td>\n",
       "      <td>0.219371</td>\n",
       "      <td>0.908780</td>\n",
       "      <td>0.970012</td>\n",
       "      <td>03:46</td>\n",
       "    </tr>\n",
       "    <tr>\n",
       "      <td>2</td>\n",
       "      <td>0.195318</td>\n",
       "      <td>0.209968</td>\n",
       "      <td>0.913780</td>\n",
       "      <td>0.971643</td>\n",
       "      <td>03:46</td>\n",
       "    </tr>\n",
       "  </tbody>\n",
       "</table>"
      ],
      "text/plain": [
       "<IPython.core.display.HTML object>"
      ]
     },
     "metadata": {},
     "output_type": "display_data"
    }
   ],
   "source": [
    "learn.fine_tune(3, 3e-3)"
   ]
  },
  {
   "cell_type": "code",
   "execution_count": 24,
   "id": "445b546b-ce79-4df0-93f5-143b67471f0a",
   "metadata": {},
   "outputs": [],
   "source": [
    "def compute_metrics(learn, test_ds):\n",
    "    test_dl = learn.dls.test_dl(test_items=test_ds)\n",
    "    preds, targs = learn.get_preds(dl=test_dl)\n",
    "    fpr, tpr, _ = roc_curve(y_true=targs, y_score=preds[:, 1])\n",
    "    acc_test = accuracy_score(targs, preds.argmax(dim=-1))\n",
    "    auc_test = auc(fpr, tpr)\n",
    "    background_eff = interp1d(tpr, fpr)\n",
    "    background_eff_at_30 = background_eff(0.3)\n",
    "\n",
    "    print(f\"Accuracy: {acc_test:.4f}\")\n",
    "    print(f\"AUC: {auc_test:.4f}\")\n",
    "    print(\n",
    "        f\"Backround rejection at signal efficiency 0.3: {1/background_eff_at_30:0.3f}\"\n",
    "    )\n",
    "    return fpr, tpr"
   ]
  },
  {
   "cell_type": "code",
   "execution_count": 25,
   "id": "6241ec16-79d3-4340-8daf-eb9014fbc447",
   "metadata": {},
   "outputs": [
    {
     "data": {
      "text/html": [
       "\n",
       "<style>\n",
       "    /* Turns off some styling */\n",
       "    progress {\n",
       "        /* gets rid of default border in Firefox and Opera. */\n",
       "        border: none;\n",
       "        /* Needs to be in here for Safari polyfill so background images work as expected. */\n",
       "        background-size: auto;\n",
       "    }\n",
       "    progress:not([value]), progress:not([value])::-webkit-progress-bar {\n",
       "        background: repeating-linear-gradient(45deg, #7e7e7e, #7e7e7e 10px, #5c5c5c 10px, #5c5c5c 20px);\n",
       "    }\n",
       "    .progress-bar-interrupted, .progress-bar-interrupted::-webkit-progress-bar {\n",
       "        background: #F44336;\n",
       "    }\n",
       "</style>\n"
      ],
      "text/plain": [
       "<IPython.core.display.HTML object>"
      ]
     },
     "metadata": {},
     "output_type": "display_data"
    },
    {
     "data": {
      "text/html": [],
      "text/plain": [
       "<IPython.core.display.HTML object>"
      ]
     },
     "metadata": {},
     "output_type": "display_data"
    },
    {
     "name": "stdout",
     "output_type": "stream",
     "text": [
      "Accuracy: 0.9140\n",
      "AUC: 0.9725\n",
      "Backround rejection at signal efficiency 0.3: 458.895\n"
     ]
    }
   ],
   "source": [
    "test_ds = get_dataset(images_ds[\"test\"])\n",
    "fpr, tpr = compute_metrics(learn, test_ds)"
   ]
  },
  {
   "cell_type": "code",
   "execution_count": 26,
   "id": "418be0ac-cc82-44f3-94c6-9aef155772d2",
   "metadata": {},
   "outputs": [
    {
     "data": {
      "image/png": "[encoded data removed]",
      "text/plain": [
       "<Figure size 640x480 with 1 Axes>"
      ]
     },
     "metadata": {},
     "output_type": "display_data"
    }
   ],
   "source": [
    "plt.plot(fpr, tpr)\n",
    "plt.plot([0, 1], [0, 1], ls=\"--\", color=\"k\")\n",
    "plt.xlabel(r\"$\\epsilon_B$\")\n",
    "plt.ylabel(r\"$\\epsilon_S$\")\n",
    "plt.tight_layout()"
   ]
  },
  {
   "cell_type": "code",
   "execution_count": 27,
   "id": "8e805986-4b3f-404c-9061-52c65edad2ec",
   "metadata": {},
   "outputs": [
    {
     "name": "stderr",
     "output_type": "stream",
     "text": [
      "<>:4: SyntaxWarning: invalid escape sequence '\\e'\n",
      "<>:5: SyntaxWarning: invalid escape sequence '\\e'\n",
      "<>:4: SyntaxWarning: invalid escape sequence '\\e'\n",
      "<>:5: SyntaxWarning: invalid escape sequence '\\e'\n",
      "C:\\Users\\Ayush\\AppData\\Local\\Temp\\ipykernel_19140\\4132169030.py:4: SyntaxWarning: invalid escape sequence '\\e'\n",
      "  plt.xlabel(\"Signal befficiency $\\epsilon_{S}$\")\n",
      "C:\\Users\\Ayush\\AppData\\Local\\Temp\\ipykernel_19140\\4132169030.py:5: SyntaxWarning: invalid escape sequence '\\e'\n",
      "  plt.ylabel(\"Background rejection $1/\\epsilon_{B}$\")\n"
     ]
    },
    {
     "data": {
      "image/png": "[encoded data removed]",
      "text/plain": [
       "<Figure size 640x480 with 1 Axes>"
      ]
     },
     "metadata": {},
     "output_type": "display_data"
    }
   ],
   "source": [
    "fig, ax = plt.subplots()\n",
    "\n",
    "plt.plot(tpr, 1 / (fpr + 1e-6), label=\"CNN\")\n",
    "plt.xlabel(\"Signal befficiency $\\epsilon_{S}$\")\n",
    "plt.ylabel(\"Background rejection $1/\\epsilon_{B}$\")\n",
    "plt.xlim(0, 1)\n",
    "plt.yscale(\"log\")\n",
    "plt.legend()\n",
    "plt.show()"
   ]
  },
  {
   "cell_type": "code",
   "execution_count": 29,
   "id": "fb44b43e-eb7e-4d8a-b82e-efa116a0c2ed",
   "metadata": {},
   "outputs": [
    {
     "data": {
      "text/plain": [
       "Path('models/CNN for Jet images.pth')"
      ]
     },
     "execution_count": 29,
     "metadata": {},
     "output_type": "execute_result"
    }
   ],
   "source": [
    "learn.save('CNN for Jet images')"
   ]
  },
  {
   "cell_type": "code",
   "execution_count": null,
   "id": "a7a8f883-2991-441d-a1d0-fd9f1bfbcd20",
   "metadata": {},
   "outputs": [],
   "source": []
  }
 ],
 "metadata": {
  "kernelspec": {
   "display_name": "Python 3 (ipykernel)",
   "language": "python",
   "name": "python3"
  },
  "language_info": {
   "codemirror_mode": {
    "name": "ipython",
    "version": 3
   },
   "file_extension": ".py",
   "mimetype": "text/x-python",
   "name": "python",
   "nbconvert_exporter": "python",
   "pygments_lexer": "ipython3",
   "version": "3.12.7"
  }
 },
 "nbformat": 4,
 "nbformat_minor": 5
}
